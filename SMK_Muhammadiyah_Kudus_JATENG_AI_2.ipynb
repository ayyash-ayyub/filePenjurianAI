{
  "nbformat": 4,
  "nbformat_minor": 0,
  "metadata": {
    "colab": {
      "name": "SMK Muhammadiyah Kudus_JATENG_AI_2.ipynb",
      "provenance": [],
      "include_colab_link": true
    },
    "kernelspec": {
      "name": "python3",
      "display_name": "Python 3"
    }
  },
  "cells": [
    {
      "cell_type": "markdown",
      "metadata": {
        "id": "view-in-github",
        "colab_type": "text"
      },
      "source": [
        "<a href=\"https://colab.research.google.com/github/ayyash-ayyub/filePenjurianAI/blob/main/SMK_Muhammadiyah_Kudus_JATENG_AI_2.ipynb\" target=\"_parent\"><img src=\"https://colab.research.google.com/assets/colab-badge.svg\" alt=\"Open In Colab\"/></a>"
      ]
    },
    {
      "cell_type": "markdown",
      "metadata": {
        "id": "OWWP543EgWhw"
      },
      "source": [
        "# **TOPIK KLASIFIKASI**"
      ]
    },
    {
      "cell_type": "markdown",
      "metadata": {
        "id": "55iIk2nigUBP"
      },
      "source": [
        "Diberikan suatu dataset yang dapat diunduh melalui https://archive.ics.uci.edu/ml/datasets/iris , bacalah dataset dengan menggunakan library Pandas (10)"
      ]
    },
    {
      "cell_type": "code",
      "metadata": {
        "id": "qipRbsxpgjxB",
        "colab": {
          "base_uri": "https://localhost:8080/"
        },
        "outputId": "72691eff-3ba9-4b38-d22a-7861182558d8"
      },
      "source": [
        "#MASUKAN CODE PYTHON ANDA DISINI\r\n",
        "\r\n",
        "from google.colab import drive\r\n",
        "drive.mount(\"/content/drive/\")"
      ],
      "execution_count": null,
      "outputs": [
        {
          "output_type": "stream",
          "text": [
            "Mounted at /content/drive/\n"
          ],
          "name": "stdout"
        }
      ]
    },
    {
      "cell_type": "markdown",
      "metadata": {
        "id": "TyzShkxygley"
      },
      "source": [
        "Pisahkan data X (sepal length, sepal width, petal length dan petal width) dengan data y (class label) (10)"
      ]
    },
    {
      "cell_type": "code",
      "metadata": {
        "id": "-Qbi_rrbgy9b",
        "colab": {
          "base_uri": "https://localhost:8080/",
          "height": 204
        },
        "outputId": "3e058b52-a3f0-4ea5-eb05-bfc3bb7cc027"
      },
      "source": [
        "#MASUKAN CODE PYTHON ANDA DISINI\r\n",
        "import pandas as pd\r\n",
        "iris = pd.read_csv('/content/drive/MyDrive/dataset/iris_data.csv', names= [\"Sepal Length\", \"Sepal Width\",\"Petal Length\",\"Petal Width\",\"class label\"])\r\n",
        "iris.head()"
      ],
      "execution_count": null,
      "outputs": [
        {
          "output_type": "execute_result",
          "data": {
            "text/html": [
              "<div>\n",
              "<style scoped>\n",
              "    .dataframe tbody tr th:only-of-type {\n",
              "        vertical-align: middle;\n",
              "    }\n",
              "\n",
              "    .dataframe tbody tr th {\n",
              "        vertical-align: top;\n",
              "    }\n",
              "\n",
              "    .dataframe thead th {\n",
              "        text-align: right;\n",
              "    }\n",
              "</style>\n",
              "<table border=\"1\" class=\"dataframe\">\n",
              "  <thead>\n",
              "    <tr style=\"text-align: right;\">\n",
              "      <th></th>\n",
              "      <th>Sepal Length</th>\n",
              "      <th>Sepal Width</th>\n",
              "      <th>Petal Length</th>\n",
              "      <th>Petal Width</th>\n",
              "      <th>class label</th>\n",
              "    </tr>\n",
              "  </thead>\n",
              "  <tbody>\n",
              "    <tr>\n",
              "      <th>0</th>\n",
              "      <td>5.1</td>\n",
              "      <td>3.5</td>\n",
              "      <td>1.4</td>\n",
              "      <td>0.2</td>\n",
              "      <td>Iris-setosa</td>\n",
              "    </tr>\n",
              "    <tr>\n",
              "      <th>1</th>\n",
              "      <td>4.9</td>\n",
              "      <td>3.0</td>\n",
              "      <td>1.4</td>\n",
              "      <td>0.2</td>\n",
              "      <td>Iris-setosa</td>\n",
              "    </tr>\n",
              "    <tr>\n",
              "      <th>2</th>\n",
              "      <td>4.7</td>\n",
              "      <td>3.2</td>\n",
              "      <td>1.3</td>\n",
              "      <td>0.2</td>\n",
              "      <td>Iris-setosa</td>\n",
              "    </tr>\n",
              "    <tr>\n",
              "      <th>3</th>\n",
              "      <td>4.6</td>\n",
              "      <td>3.1</td>\n",
              "      <td>1.5</td>\n",
              "      <td>0.2</td>\n",
              "      <td>Iris-setosa</td>\n",
              "    </tr>\n",
              "    <tr>\n",
              "      <th>4</th>\n",
              "      <td>5.0</td>\n",
              "      <td>3.6</td>\n",
              "      <td>1.4</td>\n",
              "      <td>0.2</td>\n",
              "      <td>Iris-setosa</td>\n",
              "    </tr>\n",
              "  </tbody>\n",
              "</table>\n",
              "</div>"
            ],
            "text/plain": [
              "   Sepal Length  Sepal Width  Petal Length  Petal Width  class label\n",
              "0           5.1          3.5           1.4          0.2  Iris-setosa\n",
              "1           4.9          3.0           1.4          0.2  Iris-setosa\n",
              "2           4.7          3.2           1.3          0.2  Iris-setosa\n",
              "3           4.6          3.1           1.5          0.2  Iris-setosa\n",
              "4           5.0          3.6           1.4          0.2  Iris-setosa"
            ]
          },
          "metadata": {
            "tags": []
          },
          "execution_count": 9
        }
      ]
    },
    {
      "cell_type": "markdown",
      "metadata": {
        "id": "HcIHkCdgg0Wj"
      },
      "source": [
        "Buatlah visualisasi pada ruang vektor antara sepal width dan sepal length dengan melihat warna (class label) untuk membuktikan data dapat dipisahkan secara linear seperti contoh (20)\n",
        "\n",
        "![iris-dataset-sepal-length-width-sklearn-scatterplot_python.png](data:image/png;base64,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)"
      ]
    },
    {
      "cell_type": "code",
      "metadata": {
        "id": "HhvX1wUHg8g5",
        "colab": {
          "base_uri": "https://localhost:8080/",
          "height": 386
        },
        "outputId": "38f51e4d-2e78-4a08-e759-e957075afbf1"
      },
      "source": [
        "#MASUKAN CODE PYTHON ANDA DISINI\r\n",
        "import seaborn as sns\r\n",
        "import matplotlib.pyplot as plt\r\n",
        "\r\n",
        "sns.FacetGrid(iris, hue='class label', height=5)\\\r\n",
        "    .map(plt.scatter, 'Sepal Length', 'Sepal Width')\\\r\n",
        "    .add_legend()"
      ],
      "execution_count": null,
      "outputs": [
        {
          "output_type": "execute_result",
          "data": {
            "text/plain": [
              "<seaborn.axisgrid.FacetGrid at 0x7f8dae407b50>"
            ]
          },
          "metadata": {
            "tags": []
          },
          "execution_count": 32
        },
        {
          "output_type": "display_data",
          "data": {
            "image/png": "[encoded data removed]",
            "text/plain": [
              "<Figure size 463.25x360 with 1 Axes>"
            ]
          },
          "metadata": {
            "tags": [],
            "needs_background": "light"
          }
        }
      ]
    },
    {
      "cell_type": "markdown",
      "metadata": {
        "id": "ILGjcBimg_yQ"
      },
      "source": [
        "Model apa yang cocok untuk digunakan pada kasus diatas? Apa alasan nya (20)"
      ]
    },
    {
      "cell_type": "code",
      "metadata": {
        "id": "hLwjBHFrhE2o"
      },
      "source": [
        "#MASUKAN CODE PYTHON ANDA DISINI\r\n",
        "KNN "
      ],
      "execution_count": null,
      "outputs": []
    },
    {
      "cell_type": "markdown",
      "metadata": {
        "id": "lq2iU8jyhImb"
      },
      "source": [
        "Implementasikan model tersebut dengan menggunakan library scikit learn yang terdapat pada Python (50)"
      ]
    },
    {
      "cell_type": "code",
      "metadata": {
        "id": "S3q3voy9hOVI"
      },
      "source": [
        "#MASUKAN CODE PYTHON ANDA DISINI"
      ],
      "execution_count": null,
      "outputs": []
    }
  ]
}